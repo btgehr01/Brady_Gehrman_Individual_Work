{
 "cells": [
  {
   "attachments": {},
   "cell_type": "markdown",
   "metadata": {},
   "source": [
    "\n",
    "\n",
    "\n",
    "\n",
    "\n",
    "\n",
    "\n",
    "                                                                        Brady Gehrman\n",
    "                                                                      CSE 625 Project 1\n",
    "                                                                  Date Submitted: 6/7/2023\n",
    "\n",
    "\n",
    "\n",
    "\n",
    "\n",
    "\n",
    "\n",
    "\n",
    "\n",
    "\n"
   ]
  },
  {
   "attachments": {},
   "cell_type": "markdown",
   "metadata": {},
   "source": [
    "Problem 1: In this problem, you will deal with the issues related to adding up a large collect of\n",
    " small numbers"
   ]
  },
  {
   "cell_type": "code",
   "execution_count": 3,
   "metadata": {},
   "outputs": [
    {
     "data": {
      "text/plain": [
       "1.0f-45"
      ]
     },
     "metadata": {},
     "output_type": "display_data"
    }
   ],
   "source": [
    "eps32 = eps(0f0)"
   ]
  },
  {
   "attachments": {},
   "cell_type": "markdown",
   "metadata": {},
   "source": [
    "The value return when running eps(0f0) was 1.0f-45. The eps function returns the numerical gap (epsilon value) between the value of the input parameter and the next larger value that can be represented within Julia's floating-point system. In this case the input parameter to the eps function is 0f0, a 32-bit floating point number in Julia, and the function returned 1.0f-45, which is the epsilon value for 0f0, meaning that 0f0 + 1.0f-45 would yeild you the next floating point number after 0f0."
   ]
  },
  {
   "cell_type": "code",
   "execution_count": 9,
   "metadata": {},
   "outputs": [
    {
     "data": {
      "text/plain": [
       "5.0e-324"
      ]
     },
     "metadata": {},
     "output_type": "display_data"
    }
   ],
   "source": [
    "eps64 = eps(0.0)\n"
   ]
  },
  {
   "attachments": {},
   "cell_type": "markdown",
   "metadata": {},
   "source": [
    "The value return when running eps(0.0) was 5.0e-324. The eps function returns the numerical gap (epsilon value) between the value of the input parameter and the next value that can be represented within Julia's floating-point system. In this case the input parameter to the eps function is 0.0, a 64-bit floating point number in Julia, and the function returned 5.0e-324, which is the epsilon value for 0.0, meaning that 0.0 + 5.0e-324 would yeild you the next floating point number after 0.0."
   ]
  },
  {
   "cell_type": "code",
   "execution_count": 4,
   "metadata": {},
   "outputs": [
    {
     "data": {
      "text/plain": [
       "2000000000-element Vector{Float32}:\n",
       " 1.0f-45\n",
       " 1.0f-45\n",
       " 1.0f-45\n",
       " 1.0f-45\n",
       " 1.0f-45\n",
       " 1.0f-45\n",
       " 1.0f-45\n",
       " 1.0f-45\n",
       " 1.0f-45\n",
       " 1.0f-45\n",
       " ⋮\n",
       " 1.0f-45\n",
       " 1.0f-45\n",
       " 1.0f-45\n",
       " 1.0f-45\n",
       " 1.0f-45\n",
       " 1.0f-45\n",
       " 1.0f-45\n",
       " 1.0f-45\n",
       " 1.0f-45"
      ]
     },
     "metadata": {},
     "output_type": "display_data"
    }
   ],
   "source": [
    "v = fill(eps32, 2_000_000_000) # this requires 8G bytes of memory space)"
   ]
  },
  {
   "cell_type": "code",
   "execution_count": 15,
   "metadata": {},
   "outputs": [
    {
     "data": {
      "text/plain": [
       "Vector{Float32}\u001b[90m (alias for \u001b[39m\u001b[90mArray{Float32, 1}\u001b[39m\u001b[90m)\u001b[39m"
      ]
     },
     "metadata": {},
     "output_type": "display_data"
    }
   ],
   "source": [
    "typeof(v)"
   ]
  },
  {
   "cell_type": "code",
   "execution_count": 19,
   "metadata": {},
   "outputs": [
    {
     "name": "stdout",
     "output_type": "stream",
     "text": [
      "217.921912 seconds (8.00 G allocations: 149.012 GiB, 4.34% gc time)\n"
     ]
    },
    {
     "data": {
      "text/plain": [
       "2.3509887f-38"
      ]
     },
     "metadata": {},
     "output_type": "display_data"
    }
   ],
   "source": [
    "\"\"\"\n",
    "using for loop to find the sum of v\n",
    "\"\"\"\n",
    "sumForLoop = 0f0\n",
    "@time for value in v\n",
    "    sumForLoop += value\n",
    "end\n",
    "sumForLoop"
   ]
  },
  {
   "cell_type": "code",
   "execution_count": 8,
   "metadata": {},
   "outputs": [
    {
     "name": "stdout",
     "output_type": "stream",
     "text": [
      "  3.164249 seconds (4 allocations: 64 bytes)\n"
     ]
    },
    {
     "data": {
      "text/plain": [
       "2.3509887f-38"
      ]
     },
     "metadata": {},
     "output_type": "display_data"
    }
   ],
   "source": [
    "\"\"\"\n",
    "using foldr function to find the sum of v\n",
    "\"\"\"\n",
    "\n",
    "@time foldr(+, v)"
   ]
  },
  {
   "cell_type": "code",
   "execution_count": 24,
   "metadata": {},
   "outputs": [
    {
     "name": "stdout",
     "output_type": "stream",
     "text": [
      "  0.224165 seconds (1 allocation: 16 bytes)\n"
     ]
    },
    {
     "data": {
      "text/plain": [
       "2.802597f-36"
      ]
     },
     "metadata": {},
     "output_type": "display_data"
    }
   ],
   "source": [
    "\"\"\"\n",
    "using reduce function to find the sum of v\n",
    "\"\"\"\n",
    "\n",
    "@time reduce(+, v)"
   ]
  },
  {
   "cell_type": "code",
   "execution_count": 25,
   "metadata": {},
   "outputs": [
    {
     "name": "stdout",
     "output_type": "stream",
     "text": [
      "  0.216971 seconds (1 allocation: 16 bytes)\n"
     ]
    },
    {
     "data": {
      "text/plain": [
       "2.802597f-36"
      ]
     },
     "metadata": {},
     "output_type": "display_data"
    }
   ],
   "source": [
    "\"\"\"\n",
    "using sum function to find the sum of v\n",
    "\"\"\"\n",
    "\n",
    "@time sum(v)\n"
   ]
  },
  {
   "cell_type": "code",
   "execution_count": 9,
   "metadata": {},
   "outputs": [
    {
     "data": {
      "text/plain": [
       "2000000000-element Vector{Float64}:\n",
       " 1.401298464324817e-45\n",
       " 1.401298464324817e-45\n",
       " 1.401298464324817e-45\n",
       " 1.401298464324817e-45\n",
       " 1.401298464324817e-45\n",
       " 1.401298464324817e-45\n",
       " 1.401298464324817e-45\n",
       " 1.401298464324817e-45\n",
       " 1.401298464324817e-45\n",
       " 1.401298464324817e-45\n",
       " ⋮\n",
       " 1.401298464324817e-45\n",
       " 1.401298464324817e-45\n",
       " 1.401298464324817e-45\n",
       " 1.401298464324817e-45\n",
       " 1.401298464324817e-45\n",
       " 1.401298464324817e-45\n",
       " 1.401298464324817e-45\n",
       " 1.401298464324817e-45\n",
       " 1.401298464324817e-45"
      ]
     },
     "metadata": {},
     "output_type": "display_data"
    }
   ],
   "source": [
    "v_float64 = Float64.(v)"
   ]
  },
  {
   "cell_type": "code",
   "execution_count": 12,
   "metadata": {},
   "outputs": [
    {
     "data": {
      "text/plain": [
       "2.802596928649634e-36"
      ]
     },
     "metadata": {},
     "output_type": "display_data"
    }
   ],
   "source": [
    "sum_float64 = sum(v_float64)"
   ]
  },
  {
   "cell_type": "code",
   "execution_count": 11,
   "metadata": {},
   "outputs": [
    {
     "data": {
      "text/plain": [
       "2.802596928649634e-36"
      ]
     },
     "metadata": {},
     "output_type": "display_data"
    }
   ],
   "source": [
    "foldr(+, v_float64)"
   ]
  },
  {
   "attachments": {},
   "cell_type": "markdown",
   "metadata": {},
   "source": [
    "Compare the results and run-times of computing sum of v using these four methods:\n",
    "\n",
    "1 for loop:\n",
    "run-time: 217.921912 seconds,\n",
    "result: 2.3509887f-38\n",
    "\n",
    "\n",
    "2 the foldr function:\n",
    "run-time: 3.164249 seconds,\n",
    "result: 2.3509887f-38\n",
    "\n",
    "\n",
    "3 the reduce function:\n",
    "run-time: 0.224165 seconds,\n",
    "result: 2.802597f-36\n",
    "\n",
    "\n",
    "4 the sum function:\n",
    "run-time: 0.216971 seconds,\n",
    "result: 2.802597f-36\n",
    "\n",
    "Fastest-to-Slowest: sum function, reduce function, foldr function, then the for loop immplementation\n",
    "\n",
    "Explaination on why some of the results are accurate and some are not: \n",
    "\n",
    "The reason some of the results are accurate and some are not is because of floating-point precision and potential rounding errors. Vector v holds elements of type Float32, as shown above in my notebook. The for loop and the foldr function seem to produce the same result (2.3509887f-38), while the reduce and sum functions both produce a different result (2.802597f-36). As we all know Float32 addition is not as accurate or precise as Float64 addition when it comes to very small numbers such as the ones being added in this scenerio; therefore, I then created a new vector representation of vector v, but each of the its elements were converted to Float64 elements. I then found the sum of this new array to be 2.802596928649634e-36 via the sum function and the foldr function, leading me to beleive that the sum and reduce immplementations produced more accurate results the first time around.\n",
    "\n",
    "\n"
   ]
  },
  {
   "attachments": {},
   "cell_type": "markdown",
   "metadata": {},
   "source": [
    "Problem 2: In this problem, you will compare different implementations of Fibonacci numbers."
   ]
  },
  {
   "cell_type": "code",
   "execution_count": 13,
   "metadata": {},
   "outputs": [
    {
     "data": {
      "text/plain": [
       "fib_2 (generic function with 1 method)"
      ]
     },
     "metadata": {},
     "output_type": "display_data"
    }
   ],
   "source": [
    "fib_1(n) = first([1 1;1 0]^(n-1)*[1,0])\n",
    "fib_2(n) = last( [1 1;1 0]^(n-1)*[1,1])"
   ]
  },
  {
   "cell_type": "code",
   "execution_count": 15,
   "metadata": {},
   "outputs": [
    {
     "name": "stdout",
     "output_type": "stream",
     "text": [
      "  0.000018 seconds (11 allocations: 1024 bytes)\n"
     ]
    },
    {
     "data": {
      "text/plain": [
       "102334155"
      ]
     },
     "metadata": {},
     "output_type": "display_data"
    }
   ],
   "source": [
    "@time fib_1(40)"
   ]
  },
  {
   "cell_type": "code",
   "execution_count": 16,
   "metadata": {},
   "outputs": [
    {
     "name": "stdout",
     "output_type": "stream",
     "text": [
      "  0.000007 seconds (11 allocations: 1024 bytes)\n"
     ]
    },
    {
     "data": {
      "text/plain": [
       "102334155"
      ]
     },
     "metadata": {},
     "output_type": "display_data"
    }
   ],
   "source": [
    "@time fib_2(40)"
   ]
  },
  {
   "attachments": {},
   "cell_type": "markdown",
   "metadata": {},
   "source": [
    "Justify why the two Julia functions (fib_1 and fib_2) work:\n",
    "\n",
    "The function fib_1 and fib_2 calculate the fibonacci number using matrix exponentitation. The nth fibonacci number can be calculated by raising the matrix [1 1; 0 0] to the power of (n-1), and then extracting the first or last element of the matrix result. This process works because each previous fibonacci sequence is stored inside of the resultant matrix each time it is multiplied."
   ]
  },
  {
   "cell_type": "code",
   "execution_count": 17,
   "metadata": {},
   "outputs": [
    {
     "name": "stdout",
     "output_type": "stream",
     "text": [
      "  1.577256 seconds\n"
     ]
    },
    {
     "data": {
      "text/plain": [
       "102334155"
      ]
     },
     "metadata": {},
     "output_type": "display_data"
    }
   ],
   "source": [
    "\"\"\"\n",
    "Recursive Julia function for Fibonacci\n",
    "\"\"\"\n",
    "function fib_recursive(n)\n",
    "    if n <= 0\n",
    "        println(\"input parameter must be positive\")\n",
    "    elseif n == 1 || n == 2\n",
    "        return 1\n",
    "    else\n",
    "        return fib_recursive(n-1) + fib_recursive(n-2)\n",
    "    end\n",
    "end\n",
    "\n",
    "@time fib_recursive(40)"
   ]
  },
  {
   "attachments": {},
   "cell_type": "markdown",
   "metadata": {},
   "source": [
    "The Time Performance comparision of the 3 Fibonacci immplementations (Average execution times based on multiple tests)\n",
    "\n",
    "Trial 1: n = 10\n",
    "fib_1: 0.000023 seconds,\n",
    "fib_2: 0.000005 seconds,\n",
    "fib_re: 0.000008 seconds\n",
    "\n",
    "Trial 2: n = 20\n",
    "fib_1: 0.000043 seconds,\n",
    "fib_2: 0.000008 seconds,\n",
    "fib_r: 0.000124 seconds\n",
    "\n",
    "Trial 3: n = 30\n",
    "fib_1: 0.000012 seconds,\n",
    "fib_2: 0.000009 seconds,\n",
    "fib_r: 0.015140 seconds\n",
    "\n",
    "Trial 4: n = 40\n",
    "fib_1: 0.000019 seconds,\n",
    "fib_2: 0.000013 seconds,\n",
    "fib_r: 1.575460 seconds\n",
    "\n",
    "Trial 5: n = 50\n",
    "fib_1: 0.000007 seconds,\n",
    "fib_2: 0.000010 seconds,\n",
    "fib_r: 200.933958 seconds\n",
    "\n",
    "Time Comparison:\n",
    "\n",
    "Fastest Function: fib_2 (O(log N))\n",
    "\n",
    "2nd Fastest Function: fib_1 (O(log N))\n",
    "\n",
    "Slowest: fib_recursive (O(2^n))\n",
    "\n",
    "The matrix immplementations of the fibonacci are very similar in execution time, but the fib_2 function was faster for each trial. The recursive immplementation was comparable to the matrix immplementations when n was relativley small, but as n is increased, the execution time of the recursive function increased very quickly compared to matrix immplemenations.\n"
   ]
  },
  {
   "attachments": {},
   "cell_type": "markdown",
   "metadata": {},
   "source": [
    "Problem 3: \n",
    "\n",
    "Consider the C function of implementing sin function with the Taylor series:\n",
    " void sinx(int N, int terms, float* x, float* result)\n",
    " {\n",
    "    for (int i = 0; i < N; i++)\n",
    "    {\n",
    "        float value = x[i];\n",
    "        float numer = x[i] * x[i] * x[i];\n",
    "        float denom = 6; // 3!\n",
    "        float sign = -1;\n",
    "        for (int j = 1; j <= terms; j++)\n",
    "        {\n",
    "            value += sign * numer / denom;\n",
    "            numer *= x[i] * x[i];\n",
    "            denom *= (float)(2 * j + 2) * (2 * j + 3);\n",
    "            sign *= -1;\n",
    "        }\n",
    "        result[i] = value;\n",
    "    }\n",
    " }"
   ]
  },
  {
   "cell_type": "code",
   "execution_count": 1,
   "metadata": {},
   "outputs": [
    {
     "name": "stdout",
     "output_type": "stream",
     "text": [
      "1.0000035425842861\n"
     ]
    },
    {
     "name": "stdout",
     "output_type": "stream",
     "text": [
      "1.0000035425842861\n"
     ]
    }
   ],
   "source": [
    "\"\"\"\n",
    "Implement the C function in a Julia function with the following specification:\n",
    "\n",
    "sinx implements sin function with the Taylor series.\n",
    "Arguments:\n",
    "x angle\n",
    "n number of terms used\n",
    "degree x in degree if degree is true else in radians\n",
    "\"\"\"\n",
    "\n",
    "function sinx_forLoop(x, n = 5; degree = true)\n",
    "    if degree\n",
    "        x = deg2rad(x)\n",
    "    end\n",
    "    result = x\n",
    "    sign = 1\n",
    "\n",
    "    for i in 1:n-1\n",
    "        sign *= -1\n",
    "        numerator = sign * x^(2i+1)\n",
    "        denominator =  factorial(2*i + 1)\n",
    "        result += numerator / denominator\n",
    "    end\n",
    "    return result\n",
    "end\n",
    "\n",
    "function sinx(x, n = 5; degree = true)\n",
    "    if degree\n",
    "        x = deg2rad(x)\n",
    "    end\n",
    "\n",
    "    terms = map(i -> ((-1)^(i-1) * x^(2i-1)) / factorial(2i-1), 1:n)\n",
    "    result = reduce(+, terms)\n",
    "\n",
    "    return result\n",
    "end\n",
    "\n",
    "println(sinx_forLoop(90))\n",
    "println(sinx(90))"
   ]
  },
  {
   "cell_type": "code",
   "execution_count": 27,
   "metadata": {},
   "outputs": [
    {
     "data": {
      "text/plain": [
       "7"
      ]
     },
     "metadata": {},
     "output_type": "display_data"
    }
   ],
   "source": [
    "\"\"\"\n",
    "Try to find a small n for sinx so that the absolute differences of their values for all degrees in the range 0:1:90 are less than 0.1e-7\n",
    "\"\"\"\n",
    "function findBestNValue()\n",
    "    for n in 1:15\n",
    "        valid = true\n",
    "        for i in 0:1:90\n",
    "            if(abs(sind(i) - sinx(i, n)) > 0.00000001)\n",
    "                valid = false\n",
    "            end\n",
    "        end\n",
    "        if valid\n",
    "            return n\n",
    "        end\n",
    "    end\n",
    "end\n",
    "\n",
    "findBestNValue()"
   ]
  },
  {
   "attachments": {},
   "cell_type": "markdown",
   "metadata": {},
   "source": [
    "The smallest n for my sinx function so that the absolute difference between its values and Julia's bulit-in sind function's values is less than 0.1e-7 is 7 based on the output of the function that I created above! "
   ]
  },
  {
   "cell_type": "code",
   "execution_count": 5,
   "metadata": {},
   "outputs": [
    {
     "name": "stdout",
     "output_type": "stream",
     "text": [
      "│ \u001b[36mDegree(s)\u001b[39m │ \u001b[36m    Sinx   \u001b[39m │\n",
      "│     0     │0.0          │\n",
      "│    10     │0.1736481777 │\n",
      "│    20     │0.3420201433 │\n",
      "│    30     │0.5          │\n",
      "│    40     │0.6427876102 │\n",
      "│    50     │0.7660444487 │\n",
      "│    60     │0.8660254451 │\n",
      "│    70     │0.9396928454 │\n",
      "│    80     │0.9848087259 │\n",
      "│    90     │1.0000035426 │\n"
     ]
    }
   ],
   "source": [
    "\"\"\"\n",
    "Print sinx function in a pretty table for x in the degree range 0:10:90\n",
    "\"\"\"\n",
    "function printSineTable()\n",
    "    print(\"│ \")\n",
    "    printstyled(\"Degree(s)\", color=:cyan)\n",
    "    print(\" │ \")\n",
    "    printstyled(rpad(lpad(\"Sinx\", 8), 11), color=:cyan)\n",
    "    print(\" │\\n\")\n",
    "    for i in 0:10:90\n",
    "        sineValue = sinx(i)\n",
    "        print(\"│ \")\n",
    "        print(lpad(i, 5), \"     │\",\n",
    "        rpad(lpad(round(sineValue, digits=10), 2), 12), \" │\\n\")\n",
    "    end\n",
    "end\n",
    "\n",
    "printSineTable()"
   ]
  },
  {
   "cell_type": "code",
   "execution_count": 29,
   "metadata": {},
   "outputs": [
    {
     "name": "stdout",
     "output_type": "stream",
     "text": [
      "| Increment | Sinx (s) | Sind (s) |\n"
     ]
    },
    {
     "name": "stdout",
     "output_type": "stream",
     "text": [
      "| 0.100000  | 0.098000 | 0.000000 |\n",
      "| 0.010000  | 0.052000 | 0.000000 |\n"
     ]
    },
    {
     "name": "stdout",
     "output_type": "stream",
     "text": [
      "| 0.001000  | 0.180000 | 0.001000 |\n"
     ]
    },
    {
     "name": "stdout",
     "output_type": "stream",
     "text": [
      "| 0.000100  | 1.648000 | 0.019000 |\n"
     ]
    },
    {
     "name": "stdout",
     "output_type": "stream",
     "text": [
      "| 0.000010  | 16.561000 | 0.188000 |\n"
     ]
    },
    {
     "name": "stdout",
     "output_type": "stream",
     "text": [
      "| 0.000001  | 176.117000 | 2.578000 |\n"
     ]
    },
    {
     "name": "stdout",
     "output_type": "stream",
     "text": [
      "| 0.000000  | 2005.395000 | 54.753000 |\n"
     ]
    }
   ],
   "source": [
    "\"\"\"\n",
    "Use the macro @time to measure the run-time of your sinx (n = 10) and the built-in sind functions to compute sin(x) for angle x in the degree range of\n",
    "0:inc:90, for inc = 0.1, 0.01, 0.001, 0.000_1, 0.000_01, 0.000_001, and 0.000_000_1, respectively. Assemble your timing results in a table. Discuss your timing results\n",
    "\"\"\"\n",
    "\n",
    "using Printf\n",
    "\n",
    "function findTimeForSinx(increment)\n",
    "    [sinx(i, 10) for i in 0:increment:90]\n",
    "end\n",
    "\n",
    "function findTimeForSind(increment)\n",
    "    [sind(i) for i in 0:increment:90]\n",
    "end\n",
    "\n",
    "function createTimingTable()\n",
    "    increments = [0.1, 0.01, 0.001, 0.000_1, 0.000_01, 0.000_001, 0.000_000_1]\n",
    "    @printf(\"| %s | %s | %s |\\n\", \"Increment\", \"Sinx (s)\", \"Sind (s)\")\n",
    "    for inc in increments\n",
    "        timeForSinx = @elapsed findTimeForSinx(inc)\n",
    "        timeForSind = @elapsed findTimeForSind(inc)\n",
    "        timeForSinx = round(timeForSinx, digits=3)\n",
    "        timeForSind = round(timeForSind, digits=3)\n",
    "        @printf(\"| %f  | %f | %f |\\n\", inc, timeForSinx, timeForSind)\n",
    "    end\n",
    "end\n",
    "\n",
    "createTimingTable()"
   ]
  },
  {
   "attachments": {},
   "cell_type": "markdown",
   "metadata": {},
   "source": [
    "Discussion of Timing Results:\n",
    "\n",
    "As can be seen my outputted table above, my sinx function is much slower than Julia's built-in sind function. This can especially be seen when the increment size decreases to very small amounts, meaning we needed to run the sinx and sind function more times. Julia's sind function has certainly been further optimized than my sinx function. \n"
   ]
  }
 ],
 "metadata": {
  "kernelspec": {
   "display_name": "Julia 1.9.0",
   "language": "julia",
   "name": "julia-1.9"
  },
  "language_info": {
   "file_extension": ".jl",
   "mimetype": "application/julia",
   "name": "julia",
   "version": "1.9.0"
  }
 },
 "nbformat": 4,
 "nbformat_minor": 4
}
