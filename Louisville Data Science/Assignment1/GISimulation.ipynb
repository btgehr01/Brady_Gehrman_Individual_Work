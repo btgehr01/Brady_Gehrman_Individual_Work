{
 "cells": [
  {
   "cell_type": "code",
   "execution_count": 16,
   "metadata": {},
   "outputs": [
    {
     "name": "stdout",
     "output_type": "stream",
     "text": [
      "G----I--------------------------------------------X\t0s\n",
      "----G----I----------------------------------------X\t1s\n",
      "---------G---I------------------------------------X\t2s\n",
      "--------------G--I--------------------------------X\t3s\n",
      "-----------------G-----I--------------------------X\t4s\n",
      "----------------------G----I----------------------X\t5s\n",
      "-------------------------G---------I--------------X\t6s\n",
      "-----------------------------G--------I-----------X\t7s\n",
      "--------------------------------G--------------I--X\t8s\n",
      "THE IMP HAS ESCAPED TO FREEDOM AFTER 9 SECONDS. MISCHIEF AND TRICKERY AWAIT!\n"
     ]
    }
   ],
   "source": [
    "import random\n",
    "\n",
    "def displayCurrentBoard(impPosition, golemPosition, timeInSeconds):\n",
    "    board = ['-'] * 50\n",
    "    board.append('X')\n",
    "    board[impPosition] = 'I'\n",
    "    board[golemPosition] = 'G'\n",
    "    stringBoard = \"\".join(board)  \n",
    "    print(stringBoard + \"\\t\" + str(timeInSeconds) + \"s\")\n",
    "\n",
    "\n",
    "tunnelLength = 50\n",
    "golemPosition = 0\n",
    "impPosition = 5\n",
    "impIsCaptured = False\n",
    "timeInSeconds = 0\n",
    "\n",
    "while impPosition < tunnelLength and not impIsCaptured:\n",
    "    # display the game board\n",
    "    displayCurrentBoard(impPosition, golemPosition, timeInSeconds)\n",
    "\n",
    "    # increment the time\n",
    "    timeInSeconds = timeInSeconds + 1\n",
    "    \n",
    "    # increment the imp\n",
    "    impPosition = impPosition + random.randint(1, 9)\n",
    "\n",
    "    #check to see if the imp escaped, if not continue\n",
    "    if impPosition < tunnelLength:\n",
    "        # increment the golem\n",
    "        golemPosition = golemPosition + random.randint(3, 5)\n",
    "\n",
    "        # check to see if the imp was captured by the golem\n",
    "        if golemPosition >= impPosition:\n",
    "            impIsCaptured = True\n",
    "\n",
    "\n",
    "if impIsCaptured:\n",
    "    print(\"SADLY, IT’S BACK TO THE TOWER FOR THE IMP AFTER A \" + str(timeInSeconds) + \" SECOND-CHASE.\")\n",
    "else:\n",
    "    print(\"THE IMP HAS ESCAPED TO FREEDOM AFTER \" + str(timeInSeconds) + \" SECONDS. MISCHIEF AND TRICKERY AWAIT!\")\n",
    "    \n",
    "\n",
    "\n"
   ]
  }
 ],
 "metadata": {
  "kernelspec": {
   "display_name": "Python 3 (ipykernel)",
   "language": "python",
   "name": "python3"
  },
  "language_info": {
   "codemirror_mode": {
    "name": "ipython",
    "version": 3
   },
   "file_extension": ".py",
   "mimetype": "text/x-python",
   "name": "python",
   "nbconvert_exporter": "python",
   "pygments_lexer": "ipython3",
   "version": "3.11.7"
  }
 },
 "nbformat": 4,
 "nbformat_minor": 4
}
