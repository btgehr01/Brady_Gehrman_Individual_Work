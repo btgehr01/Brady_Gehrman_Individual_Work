{
 "cells": [
  {
   "cell_type": "code",
   "execution_count": 1,
   "metadata": {},
   "outputs": [
    {
     "ename": "ModuleNotFoundError",
     "evalue": "No module named 'torchvision'",
     "output_type": "error",
     "traceback": [
      "\u001b[1;31m---------------------------------------------------------------------------\u001b[0m",
      "\u001b[1;31mModuleNotFoundError\u001b[0m                       Traceback (most recent call last)",
      "Cell \u001b[1;32mIn[1], line 2\u001b[0m\n\u001b[0;32m      1\u001b[0m \u001b[38;5;28;01mimport\u001b[39;00m \u001b[38;5;21;01mtorch\u001b[39;00m\n\u001b[1;32m----> 2\u001b[0m \u001b[38;5;28;01mimport\u001b[39;00m \u001b[38;5;21;01mtorchvision\u001b[39;00m\u001b[38;5;21;01m.\u001b[39;00m\u001b[38;5;21;01mmodels\u001b[39;00m \u001b[38;5;28;01mas\u001b[39;00m \u001b[38;5;21;01mmodels\u001b[39;00m\n\u001b[0;32m      3\u001b[0m \u001b[38;5;28;01mimport\u001b[39;00m \u001b[38;5;21;01mtorch2trt\u001b[39;00m\n\u001b[0;32m      4\u001b[0m \u001b[38;5;28;01mfrom\u001b[39;00m \u001b[38;5;21;01mtorchvision\u001b[39;00m \u001b[38;5;28;01mimport\u001b[39;00m transforms\n",
      "\u001b[1;31mModuleNotFoundError\u001b[0m: No module named 'torchvision'"
     ]
    }
   ],
   "source": [
    "import torch\n",
    "import torchvision.models as models\n",
    "import torch2trt\n",
    "from torchvision import transforms\n",
    "\n",
    "# Example PyTorch model (ResNet50)\n",
    "torch_model = models.resnet50(pretrained=True)\n",
    "\n",
    "# Save PyTorch model\n",
    "torch.save(torch_model.state_dict(), 'torch_model.pth')\n",
    "\n",
    "# Load PyTorch model\n",
    "loaded_torch_model = models.resnet50()\n",
    "loaded_torch_model.load_state_dict(torch.load('torch_model.pth'))\n",
    "loaded_torch_model.eval()\n",
    "\n",
    "# Optimize PyTorch model using TensorRT\n",
    "data = torch.ones((1, 3, 224, 224)).cuda()\n",
    "trt_torch_model = torch2trt.torch2trt(loaded_torch_model, [data])\n",
    "\n",
    "# Save optimized PyTorch TensorRT model\n",
    "torch.save(trt_torch_model.state_dict(), 'trt_torch_model.pth')\n",
    "\n",
    "# Load the optimized model on GPU\n",
    "loaded_trt_torch_model = models.resnet50()\n",
    "loaded_trt_torch_model.load_state_dict(torch.load('trt_torch_model.pth'))\n",
    "loaded_trt_torch_model = loaded_trt_torch_model.cuda()\n",
    "loaded_trt_torch_model.eval()\n",
    "\n",
    "# Test the loaded optimized PyTorch model on GPU\n",
    "# Assuming you have a function prepare_input_data() that prepares your input data\n",
    "def prepare_input_data():\n",
    "    transform = transforms.Compose([\n",
    "        transforms.ToTensor(),\n",
    "        transforms.Resize((224, 224)),\n",
    "        # Add other necessary transformations\n",
    "    ])\n",
    "    input_data = transform(your_raw_input_data).unsqueeze(0).cuda()\n",
    "    return input_data\n",
    "\n",
    "input_data = prepare_input_data()\n",
    "with torch.no_grad():\n",
    "    output = loaded_trt_torch_model(input_data)\n",
    "\n",
    "# Process the output as needed\n",
    "print(output)\n"
   ]
  },
  {
   "cell_type": "code",
   "execution_count": null,
   "metadata": {},
   "outputs": [],
   "source": []
  }
 ],
 "metadata": {
  "kernelspec": {
   "display_name": "Python 3 (ipykernel)",
   "language": "python",
   "name": "python3"
  },
  "language_info": {
   "codemirror_mode": {
    "name": "ipython",
    "version": 3
   },
   "file_extension": ".py",
   "mimetype": "text/x-python",
   "name": "python",
   "nbconvert_exporter": "python",
   "pygments_lexer": "ipython3",
   "version": "3.10.9"
  }
 },
 "nbformat": 4,
 "nbformat_minor": 2
}
