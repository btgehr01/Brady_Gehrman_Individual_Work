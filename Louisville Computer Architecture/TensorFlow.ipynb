{
 "cells": [
  {
   "cell_type": "code",
   "execution_count": null,
   "metadata": {},
   "outputs": [],
   "source": []
  },
  {
   "cell_type": "code",
   "execution_count": 6,
   "metadata": {},
   "outputs": [
    {
     "name": "stdout",
     "output_type": "stream",
     "text": [
      "WARNING:tensorflow:Compiled the loaded model, but the compiled metrics have yet to be built. `model.compile_metrics` will be empty until you train or evaluate the model.\n"
     ]
    },
    {
     "name": "stderr",
     "output_type": "stream",
     "text": [
      "WARNING:tensorflow:Compiled the loaded model, but the compiled metrics have yet to be built. `model.compile_metrics` will be empty until you train or evaluate the model.\n",
      "WARNING:absl:Found untraced functions such as _jit_compiled_convolution_op, _jit_compiled_convolution_op, _jit_compiled_convolution_op, _jit_compiled_convolution_op, _jit_compiled_convolution_op while saving (showing 5 of 53). These functions will not be directly callable after loading.\n"
     ]
    },
    {
     "name": "stdout",
     "output_type": "stream",
     "text": [
      "INFO:tensorflow:Assets written to: Models/tf_model\\assets\n"
     ]
    },
    {
     "name": "stderr",
     "output_type": "stream",
     "text": [
      "INFO:tensorflow:Assets written to: Models/tf_model\\assets\n"
     ]
    },
    {
     "name": "stdout",
     "output_type": "stream",
     "text": [
      "WARNING:tensorflow:No training configuration found in save file, so the model was *not* compiled. Compile it manually.\n"
     ]
    },
    {
     "name": "stderr",
     "output_type": "stream",
     "text": [
      "WARNING:tensorflow:No training configuration found in save file, so the model was *not* compiled. Compile it manually.\n"
     ]
    },
    {
     "name": "stdout",
     "output_type": "stream",
     "text": [
      "ERROR:tensorflow:Tensorflow needs to be built with TensorRT support enabled to allow TF-TRT to operate.\n"
     ]
    },
    {
     "name": "stderr",
     "output_type": "stream",
     "text": [
      "ERROR:tensorflow:Tensorflow needs to be built with TensorRT support enabled to allow TF-TRT to operate.\n"
     ]
    },
    {
     "ename": "RuntimeError",
     "evalue": "Tensorflow has not been built with TensorRT support.",
     "output_type": "error",
     "traceback": [
      "\u001b[1;31m---------------------------------------------------------------------------\u001b[0m",
      "\u001b[1;31mRuntimeError\u001b[0m                              Traceback (most recent call last)",
      "Cell \u001b[1;32mIn[6], line 20\u001b[0m\n\u001b[0;32m     17\u001b[0m loaded_tf_model \u001b[38;5;241m=\u001b[39m tf\u001b[38;5;241m.\u001b[39mkeras\u001b[38;5;241m.\u001b[39mmodels\u001b[38;5;241m.\u001b[39mload_model(original_model_location)\n\u001b[0;32m     19\u001b[0m \u001b[38;5;66;03m# Optimize TensorFlow model using TensorRT\u001b[39;00m\n\u001b[1;32m---> 20\u001b[0m converter \u001b[38;5;241m=\u001b[39m \u001b[43mtrt\u001b[49m\u001b[38;5;241;43m.\u001b[39;49m\u001b[43mTrtGraphConverterV2\u001b[49m\u001b[43m(\u001b[49m\u001b[43minput_saved_model_dir\u001b[49m\u001b[38;5;241;43m=\u001b[39;49m\u001b[43moriginal_model_location\u001b[49m\u001b[43m)\u001b[49m\n\u001b[0;32m     21\u001b[0m converter\u001b[38;5;241m.\u001b[39mconvert()\n\u001b[0;32m     22\u001b[0m converter\u001b[38;5;241m.\u001b[39msave(optimized_model_location)\n",
      "File \u001b[1;32mC:\\ProgramData\\anaconda3\\lib\\site-packages\\tensorflow\\python\\util\\deprecation.py:561\u001b[0m, in \u001b[0;36mdeprecated_args.<locals>.deprecated_wrapper.<locals>.new_func\u001b[1;34m(*args, **kwargs)\u001b[0m\n\u001b[0;32m    553\u001b[0m         _PRINTED_WARNING[(func, arg_name)] \u001b[38;5;241m=\u001b[39m \u001b[38;5;28;01mTrue\u001b[39;00m\n\u001b[0;32m    554\u001b[0m       logging\u001b[38;5;241m.\u001b[39mwarning(\n\u001b[0;32m    555\u001b[0m           \u001b[38;5;124m'\u001b[39m\u001b[38;5;124mFrom \u001b[39m\u001b[38;5;132;01m%s\u001b[39;00m\u001b[38;5;124m: calling \u001b[39m\u001b[38;5;132;01m%s\u001b[39;00m\u001b[38;5;124m (from \u001b[39m\u001b[38;5;132;01m%s\u001b[39;00m\u001b[38;5;124m) with \u001b[39m\u001b[38;5;132;01m%s\u001b[39;00m\u001b[38;5;124m is deprecated and will \u001b[39m\u001b[38;5;124m'\u001b[39m\n\u001b[0;32m    556\u001b[0m           \u001b[38;5;124m'\u001b[39m\u001b[38;5;124mbe removed \u001b[39m\u001b[38;5;132;01m%s\u001b[39;00m\u001b[38;5;124m.\u001b[39m\u001b[38;5;130;01m\\n\u001b[39;00m\u001b[38;5;124mInstructions for updating:\u001b[39m\u001b[38;5;130;01m\\n\u001b[39;00m\u001b[38;5;132;01m%s\u001b[39;00m\u001b[38;5;124m'\u001b[39m,\n\u001b[1;32m   (...)\u001b[0m\n\u001b[0;32m    559\u001b[0m           \u001b[38;5;124m'\u001b[39m\u001b[38;5;124min a future version\u001b[39m\u001b[38;5;124m'\u001b[39m \u001b[38;5;28;01mif\u001b[39;00m date \u001b[38;5;129;01mis\u001b[39;00m \u001b[38;5;28;01mNone\u001b[39;00m \u001b[38;5;28;01melse\u001b[39;00m (\u001b[38;5;124m'\u001b[39m\u001b[38;5;124mafter \u001b[39m\u001b[38;5;132;01m%s\u001b[39;00m\u001b[38;5;124m'\u001b[39m \u001b[38;5;241m%\u001b[39m date),\n\u001b[0;32m    560\u001b[0m           instructions)\n\u001b[1;32m--> 561\u001b[0m \u001b[38;5;28;01mreturn\u001b[39;00m func(\u001b[38;5;241m*\u001b[39margs, \u001b[38;5;241m*\u001b[39m\u001b[38;5;241m*\u001b[39mkwargs)\n",
      "File \u001b[1;32mC:\\ProgramData\\anaconda3\\lib\\site-packages\\tensorflow\\python\\compiler\\tensorrt\\trt_convert.py:1156\u001b[0m, in \u001b[0;36mTrtGraphConverterV2.__init__\u001b[1;34m(self, input_saved_model_dir, input_saved_model_tags, input_saved_model_signature_key, use_dynamic_shape, dynamic_shape_profile_strategy, max_workspace_size_bytes, precision_mode, minimum_segment_size, maximum_cached_engines, use_calibration, allow_build_at_runtime, conversion_params)\u001b[0m\n\u001b[0;32m   1147\u001b[0m \u001b[38;5;28;01mif\u001b[39;00m conversion_params \u001b[38;5;129;01mis\u001b[39;00m \u001b[38;5;28;01mNone\u001b[39;00m:\n\u001b[0;32m   1148\u001b[0m   conversion_params \u001b[38;5;241m=\u001b[39m TrtConversionParams(\n\u001b[0;32m   1149\u001b[0m       max_workspace_size_bytes\u001b[38;5;241m=\u001b[39mmax_workspace_size_bytes,\n\u001b[0;32m   1150\u001b[0m       precision_mode\u001b[38;5;241m=\u001b[39mprecision_mode,\n\u001b[1;32m   (...)\u001b[0m\n\u001b[0;32m   1153\u001b[0m       use_calibration\u001b[38;5;241m=\u001b[39muse_calibration,\n\u001b[0;32m   1154\u001b[0m       allow_build_at_runtime\u001b[38;5;241m=\u001b[39mallow_build_at_runtime)\n\u001b[1;32m-> 1156\u001b[0m \u001b[43m_check_trt_version_compatibility\u001b[49m\u001b[43m(\u001b[49m\u001b[43m)\u001b[49m\n\u001b[0;32m   1157\u001b[0m _check_conversion_params(conversion_params, is_v2\u001b[38;5;241m=\u001b[39m\u001b[38;5;28;01mTrue\u001b[39;00m)\n\u001b[0;32m   1159\u001b[0m \u001b[38;5;28mself\u001b[39m\u001b[38;5;241m.\u001b[39m_conversion_params \u001b[38;5;241m=\u001b[39m conversion_params\n",
      "File \u001b[1;32mC:\\ProgramData\\anaconda3\\lib\\site-packages\\tensorflow\\python\\compiler\\tensorrt\\trt_convert.py:221\u001b[0m, in \u001b[0;36m_check_trt_version_compatibility\u001b[1;34m()\u001b[0m\n\u001b[0;32m    216\u001b[0m \u001b[38;5;28;01mif\u001b[39;00m \u001b[38;5;129;01mnot\u001b[39;00m _pywrap_py_utils\u001b[38;5;241m.\u001b[39mis_tensorrt_enabled():\n\u001b[0;32m    217\u001b[0m   logging\u001b[38;5;241m.\u001b[39merror(\n\u001b[0;32m    218\u001b[0m       \u001b[38;5;124m\"\u001b[39m\u001b[38;5;124mTensorflow needs to be built with TensorRT support enabled to allow \u001b[39m\u001b[38;5;124m\"\u001b[39m\n\u001b[0;32m    219\u001b[0m       \u001b[38;5;124m\"\u001b[39m\u001b[38;5;124mTF-TRT to operate.\u001b[39m\u001b[38;5;124m\"\u001b[39m)\n\u001b[1;32m--> 221\u001b[0m   \u001b[38;5;28;01mraise\u001b[39;00m \u001b[38;5;167;01mRuntimeError\u001b[39;00m(\u001b[38;5;124m\"\u001b[39m\u001b[38;5;124mTensorflow has not been built with TensorRT support.\u001b[39m\u001b[38;5;124m\"\u001b[39m)\n\u001b[0;32m    223\u001b[0m \u001b[38;5;28;01mif\u001b[39;00m platform\u001b[38;5;241m.\u001b[39msystem() \u001b[38;5;241m==\u001b[39m \u001b[38;5;124m\"\u001b[39m\u001b[38;5;124mWindows\u001b[39m\u001b[38;5;124m\"\u001b[39m:\n\u001b[0;32m    224\u001b[0m   logging\u001b[38;5;241m.\u001b[39mwarn(\n\u001b[0;32m    225\u001b[0m       \u001b[38;5;124m\"\u001b[39m\u001b[38;5;124mWindows support is provided experimentally. No guarantee is made \u001b[39m\u001b[38;5;124m\"\u001b[39m\n\u001b[0;32m    226\u001b[0m       \u001b[38;5;124m\"\u001b[39m\u001b[38;5;124mregarding functionality or engineering support. Use at your own risk.\u001b[39m\u001b[38;5;124m\"\u001b[39m)\n",
      "\u001b[1;31mRuntimeError\u001b[0m: Tensorflow has not been built with TensorRT support."
     ]
    }
   ],
   "source": [
    "import tensorflow as tf\n",
    "from tensorflow.keras.applications import ResNet50\n",
    "from tensorflow.keras.preprocessing import image\n",
    "from tensorflow.keras.applications.resnet50 import preprocess_input, decode_predictions\n",
    "from tensorflow.python.compiler.tensorrt import trt_convert as trt\n",
    "\n",
    "original_model_location = \"Models/tf_model\"\n",
    "optimized_model_location = \"OptimizedModels/tf_model\"\n",
    "\n",
    "# Example TensorFlow model (ResNet50)\n",
    "tf_model = ResNet50(weights='imagenet')\n",
    "\n",
    "# Save TensorFlow model\n",
    "tf_model.save(original_model_location)\n",
    "\n",
    "# Load the TensorFlow model\n",
    "loaded_tf_model = tf.keras.models.load_model(original_model_location)\n",
    "\n",
    "# Optimize TensorFlow model using TensorRT\n",
    "converter = trt.TrtGraphConverterV2(input_saved_model_dir=original_model_location)\n",
    "converter.convert()\n",
    "converter.save(optimized_model_location)\n",
    "\n",
    "# Load the optimized model on GPU\n",
    "loaded_trt_tf_model = tf.keras.models.load_model(optimized_model_location)\n",
    "\n",
    "# Test the loaded optimized TensorFlow model on GPU\n",
    "\n",
    "# Prepare the testing data\n",
    "def prepare_input_data(your_image_path):\n",
    "    # Replace this with your input data preparation code\n",
    "    img = image.load_img(your_image_path, target_size=(224, 224))\n",
    "    img_array = image.img_to_array(img)\n",
    "    img_array = preprocess_input(img_array)\n",
    "    img_array = tf.convert_to_tensor(img_array, dtype=tf.float32)\n",
    "    img_array = tf.expand_dims(img_array, axis=0)\n",
    "    return img_array\n",
    "\n",
    "# Provide a valid image path\n",
    "your_image_path = \"path/to/your/image.jpg\"\n",
    "input_data = prepare_input_data(your_image_path)\n",
    "output = loaded_trt_tf_model.predict(input_data)\n",
    "\n",
    "# Process the output as needed\n",
    "print(decode_predictions(output))\n"
   ]
  },
  {
   "cell_type": "code",
   "execution_count": null,
   "metadata": {},
   "outputs": [],
   "source": []
  }
 ],
 "metadata": {
  "kernelspec": {
   "display_name": "Python 3 (ipykernel)",
   "language": "python",
   "name": "python3"
  },
  "language_info": {
   "codemirror_mode": {
    "name": "ipython",
    "version": 3
   },
   "file_extension": ".py",
   "mimetype": "text/x-python",
   "name": "python",
   "nbconvert_exporter": "python",
   "pygments_lexer": "ipython3",
   "version": "3.10.9"
  }
 },
 "nbformat": 4,
 "nbformat_minor": 2
}
